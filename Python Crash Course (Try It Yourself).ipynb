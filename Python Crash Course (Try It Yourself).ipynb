{
 "cells": [
  {
   "cell_type": "markdown",
   "metadata": {},
   "source": [
    "**Python Crash Course (2nd Edition)**\n",
    "- A Hands-On, Project-Based Introduction to Programming <br>\n",
    "\n",
    "Walking through all the ***Try It Yourself*** exercises."
   ]
  },
  {
   "cell_type": "markdown",
   "metadata": {},
   "source": [
    "# Getting Started"
   ]
  },
  {
   "cell_type": "markdown",
   "metadata": {},
   "source": [
    "## python.org:\n",
    "Explore the <a href=\"https://python.org/\" title = \"python.org\"> Python</a> home page to find topics that interest you. As you become familiar with Python, different parts of the site will be more uselful to you."
   ]
  },
  {
   "cell_type": "markdown",
   "metadata": {},
   "source": [
    "## Hello World Typos:\n",
    "Open the `hello_world.py` file you just created. Make a typo somewhere in the line and run the program again. <br>\n",
    "- Can you make a typo somewhere in the line and run the program again.\n",
    "- Can you make a typo that generates an error?\n",
    "- Can you make sense of the error message?\n",
    "- Can you make a typo that doesn't generate an error?\n",
    "- Why do you think it didn't make an error?\n",
    "<br>\n",
    "\n",
    ">asd"
   ]
  },
  {
   "cell_type": "markdown",
   "metadata": {},
   "source": [
    "## Infinite Skills:\n",
    "If you had infinite programming skills, what would you build? You're about to learn how to program. If you have an end goal in mind, you'll have an immediate use for your new skills; now is a great time to draft descriptions of what you want to create. It's a good habit to keep an <strong> ideas </strong> notebook that you can refer to whenever you want to start a new project. Take a few minutes now to describe three programs you want to create. <br>\n",
    ">```\n",
    " - MLP for non-linear regression. \n",
    " - Stock recommender. \n",
    " - Computer vision detection for facial recognition.\n",
    " - Lucky number, predicting toto 4d lol\n",
    ">```"
   ]
  },
  {
   "cell_type": "markdown",
   "metadata": {},
   "source": [
    "# Variables and Simple Data Types"
   ]
  },
  {
   "cell_type": "markdown",
   "metadata": {},
   "source": [
    "## Simple Message:\n",
    "Assign a message to a variable, and then print that message.\n",
    "\n",
    ">```python\n",
    "msg = \"Hello Jupyter!\"\n",
    "print (msg)\n",
    "```"
   ]
  },
  {
   "cell_type": "code",
   "execution_count": 1,
   "metadata": {},
   "outputs": [
    {
     "name": "stdout",
     "output_type": "stream",
     "text": [
      "Hello Jupyter!\n"
     ]
    }
   ],
   "source": [
    "#2.1\n",
    "msg = \"Hello Jupyter!\"\n",
    "print (msg)"
   ]
  },
  {
   "cell_type": "markdown",
   "metadata": {},
   "source": [
    "## Simple Messages:\n",
    "Assign a message to a variable, and print that message. Then change the value of the variable to a new message, and print the new message.\n",
    "\n",
    ">```python\n",
    "msg = \"Hello Jupyter!\"\n",
    "print (msg)\n",
    "msg = \"and Hello World!\"\n",
    "print (msg)\n",
    "```"
   ]
  },
  {
   "cell_type": "code",
   "execution_count": 2,
   "metadata": {},
   "outputs": [
    {
     "name": "stdout",
     "output_type": "stream",
     "text": [
      "Hello Jupyter!\n",
      "and Hello World!\n"
     ]
    }
   ],
   "source": [
    "#2.2\n",
    "#Reusing the same variable as before - 'msg'\n",
    "print (msg)\n",
    "msg = \"and Hello World!\"\n",
    "print (msg)"
   ]
  },
  {
   "cell_type": "markdown",
   "metadata": {},
   "source": [
    "## Personal Message:\n",
    "Use a variable to represent a person's name, and print a message to that person. Your message should be simple, such as, <em>\"Hello Eric, would you like to lean some Python today?\"<em>"
   ]
  },
  {
   "cell_type": "code",
   "execution_count": 3,
   "metadata": {},
   "outputs": [
    {
     "name": "stdout",
     "output_type": "stream",
     "text": [
      "Hello Gale, would you like to learn some Python today?\n"
     ]
    }
   ],
   "source": [
    "#2.3\n",
    "person = \"Gale\"\n",
    "print(f'Hello {person}, would you like to learn some Python today?')"
   ]
  },
  {
   "cell_type": "markdown",
   "metadata": {},
   "source": [
    "## Name Cases:\n",
    "Use a variable to represent a person's name, and then print that person's name in lowercase, uppercase, and title case."
   ]
  },
  {
   "cell_type": "code",
   "execution_count": 4,
   "metadata": {},
   "outputs": [
    {
     "name": "stdout",
     "output_type": "stream",
     "text": [
      "Hello GALE, would you like to learn some Python today?\n",
      "Hello gale, would you like to learn some Python today?\n",
      "Hello Gale, would you like to learn some Python today?\n"
     ]
    }
   ],
   "source": [
    "#2.4\n",
    "'''Let's use the same variable as before - 'person'\n",
    "'''\n",
    "print (f'Hello {person.upper()}, would you like to learn some Python today?')\n",
    "print (f'Hello {person.lower()}, would you like to learn some Python today?')\n",
    "print (f'Hello {person.title()}, would you like to learn some Python today?')"
   ]
  },
  {
   "cell_type": "markdown",
   "metadata": {},
   "source": [
    "## Famous Quote:\n",
    "Find a quote from a famous person you admire. Print the quote and the name of its author. Your output should look something like the following, including the quotation marks:\n",
    ">Albert Einstein once said, \"A person who never made a mistake never tried anything new.\"\n",
    "\n",
    "## Famous Quote 2:\n",
    "Repeat Exercise 2-5, but this time, represent the famous person's name using a variable called ```famous_person```. Then compose your message and represent it with a new variable called message. Print your message."
   ]
  },
  {
   "cell_type": "code",
   "execution_count": 5,
   "metadata": {},
   "outputs": [
    {
     "name": "stdout",
     "output_type": "stream",
     "text": [
      "Albert Einstein once said, \"A person who never made a mistake never tried anything new.\"\n",
      "Albert Einstein said, \"A person who never made a mistake never tried anything new\"\n",
      "Albus Dumbledore said, \"It does not do to dwell on dreams and forget to live. - Harry Potter and the Sorcerer's Stone\"\n"
     ]
    }
   ],
   "source": [
    "# 2.5\n",
    "print ('Albert Einstein once said, \"A person who never made a mistake never tried anything new.\"')\n",
    "\n",
    "# 2.6\n",
    "author_AE = 'albert einstein'\n",
    "A_Einstein = \"A person who never made a mistake never tried anything new\"\n",
    "author_AD = 'albus dumbledore'\n",
    "A_Dumbledore = \"It does not do to dwell on dreams and forget to live. - Harry Potter and the Sorcerer's Stone\"\n",
    "print (f'{author_AE.title()} said, \"{A_Einstein}\"')\n",
    "print (f'{author_AD.title()} said, \"{A_Dumbledore}\"')"
   ]
  },
  {
   "cell_type": "markdown",
   "metadata": {},
   "source": [
    "## Stripping Names:\n",
    "Use a variable to represent a person's name, and include some whitespace characters at the beginning and end of the name. Make sure you use each character combination, `\"\\t\"` and `\"\\n\"`, at least once.\n",
    "Print the name once, so the whitespace around the name is displayed.\n",
    "Then print the name using each of the three stripping fuctions, `lstrip()`, `rstrip()`, and `strip()`."
   ]
  },
  {
   "cell_type": "code",
   "execution_count": 6,
   "metadata": {},
   "outputs": [
    {
     "name": "stdout",
     "output_type": "stream",
     "text": [
      "This is your name: \" leafy raleigh \"\n",
      "This is your name\n",
      "\twith spaces removed: \"leafy raleigh\"\n",
      "\twith left space removed: \"leafy raleigh \" \n",
      "\tand with right space removed: \" leafy raleigh\"\n"
     ]
    }
   ],
   "source": [
    "name_with_spaces = \" leafy raleigh \"\n",
    "print (f'This is your name: \"{name_with_spaces}\"')\n",
    "print (f'This is your name\\n\\twith spaces removed: \"{name_with_spaces.strip()}\"\\n\\twith left space removed: \"{name_with_spaces.lstrip()}\" \\n\\tand with right space removed: \"{name_with_spaces.rstrip()}\"')"
   ]
  },
  {
   "cell_type": "markdown",
   "metadata": {},
   "source": [
    "## Number Eight:\n",
    "Write addition, subtraction, multiplication, and division operations that each result in the number 8. Be sure to enclose your operations in `print()` calls to see the results. You should create four lines that look like this:\n",
    "```python\n",
    "print (5+3)\n",
    "```\n",
    "Your output should simply be ***four*** lines witht the number **8** appearing once on each line."
   ]
  },
  {
   "cell_type": "code",
   "execution_count": 7,
   "metadata": {},
   "outputs": [
    {
     "name": "stdout",
     "output_type": "stream",
     "text": [
      "8\n",
      "8\n",
      "8\n",
      "8.0\n"
     ]
    }
   ],
   "source": [
    "print (4+4)\n",
    "print (12-4)\n",
    "print (4*2)\n",
    "print (32/4)"
   ]
  },
  {
   "cell_type": "markdown",
   "metadata": {},
   "source": [
    "## Favorite Number:\n",
    "Use a variable to represent your favorite number. Then, using that variable, create a message that reveals your favourite number. Print that message."
   ]
  },
  {
   "cell_type": "code",
   "execution_count": 8,
   "metadata": {},
   "outputs": [
    {
     "name": "stdout",
     "output_type": "stream",
     "text": [
      "In Chinese tradition, 888 is often considered as lucky number as it's homonyms with 'fa fa fa', meaning to prosper.\n"
     ]
    }
   ],
   "source": [
    "rednum = 888\n",
    "print (f\"In Chinese tradition, {rednum} is often considered as lucky number as it's homonyms with 'fa fa fa', meaning to prosper.\")"
   ]
  },
  {
   "cell_type": "markdown",
   "metadata": {},
   "source": [
    "## Adding Comments:\n",
    "Choose two of the programs you've written, and add at least one comment to each. If you don't have anything specific to write because your programs are too simple at this point, just add your name and the current date at the top of each program file. Then write one sentence describing what the program does. <br>\n",
    "[2.2 Simple Messages](#Simple-Messages:)"
   ]
  },
  {
   "cell_type": "markdown",
   "metadata": {},
   "source": [
    "## Zen of Python:\n",
    "Enter `import this` into a Python terminal session and skim through the additional principles."
   ]
  },
  {
   "cell_type": "code",
   "execution_count": 9,
   "metadata": {},
   "outputs": [
    {
     "name": "stdout",
     "output_type": "stream",
     "text": [
      "The Zen of Python, by Tim Peters\n",
      "\n",
      "Beautiful is better than ugly.\n",
      "Explicit is better than implicit.\n",
      "Simple is better than complex.\n",
      "Complex is better than complicated.\n",
      "Flat is better than nested.\n",
      "Sparse is better than dense.\n",
      "Readability counts.\n",
      "Special cases aren't special enough to break the rules.\n",
      "Although practicality beats purity.\n",
      "Errors should never pass silently.\n",
      "Unless explicitly silenced.\n",
      "In the face of ambiguity, refuse the temptation to guess.\n",
      "There should be one-- and preferably only one --obvious way to do it.\n",
      "Although that way may not be obvious at first unless you're Dutch.\n",
      "Now is better than never.\n",
      "Although never is often better than *right* now.\n",
      "If the implementation is hard to explain, it's a bad idea.\n",
      "If the implementation is easy to explain, it may be a good idea.\n",
      "Namespaces are one honking great idea -- let's do more of those!\n"
     ]
    }
   ],
   "source": [
    "import this"
   ]
  },
  {
   "cell_type": "markdown",
   "metadata": {},
   "source": [
    "# Introducing Lists"
   ]
  },
  {
   "cell_type": "markdown",
   "metadata": {},
   "source": [
    "## Names:\n",
    "Store the names of a few of your friends in a list called `names`. Print each person's name by accessing each element in the list, one at a time."
   ]
  },
  {
   "cell_type": "code",
   "execution_count": 10,
   "metadata": {},
   "outputs": [
    {
     "name": "stdout",
     "output_type": "stream",
     "text": [
      "sek\n",
      "kueh\n",
      "wu\n",
      "wong\n",
      "ho\n",
      "chong\n",
      "li\n",
      "pian\n",
      "lee\n"
     ]
    }
   ],
   "source": [
    "friends_names = ['sek', 'kueh', 'wu', 'wong', 'ho', 'chong', 'li', 'pian', 'lee']\n",
    "for name in friends_names:\n",
    "    print (name)"
   ]
  },
  {
   "cell_type": "markdown",
   "metadata": {},
   "source": [
    "## Greetings:\n",
    "Start with the list you used in *Exercise 3-1*, but instead of just printing each person's name, print a message to them. The text of each message should be the same, but each message should be personalized with the person's name."
   ]
  },
  {
   "cell_type": "code",
   "execution_count": 11,
   "metadata": {},
   "outputs": [
    {
     "name": "stdout",
     "output_type": "stream",
     "text": [
      "Happy Chinese New Year Sek!\n"
     ]
    }
   ],
   "source": [
    "# for name in friends_names:\n",
    "#     print (f'Happy Chinese New Year {name.title()}!')\n",
    "print (f'Happy Chinese New Year {friends_names[0].title()}!')"
   ]
  },
  {
   "cell_type": "markdown",
   "metadata": {},
   "source": [
    "## Your Own List:\n",
    "Think of your favorite mode of transportation, such as a motorcycle or a car, and make a list that stores several examples. Use your list to print a series of statements about these items, such as \"I would like to own a Honda motorcycle.\""
   ]
  },
  {
   "cell_type": "code",
   "execution_count": 12,
   "metadata": {},
   "outputs": [
    {
     "name": "stdout",
     "output_type": "stream",
     "text": [
      "I wish to ride Japanese Scenic Train Ride if I got the chance to travel to Japan!\n",
      "Car is the mode of transportation I use most frequently.\n"
     ]
    }
   ],
   "source": [
    "want_transport = ['trolley buses', 'japanese Scenic train ride','bullet train', 'electric car', 'gondola lift']\n",
    "fav_transport = ['bicyle', 'cruise', 'boat', 'car', 'public transit']\n",
    "print (f'I wish to ride {want_transport[1].title()} if I got the chance to travel to Japan!')\n",
    "print (f'{fav_transport[3].title()} is the mode of transportation I use most frequently.')"
   ]
  },
  {
   "cell_type": "markdown",
   "metadata": {},
   "source": [
    "## Guest List:\n",
    "If you could invite anyone, living or deceased, to dinner, who would you invite? Make a list that includes at least three people you'd like to invite to dinner. Then use your list to print a message to each person, inviting them to dinner."
   ]
  },
  {
   "cell_type": "code",
   "execution_count": 13,
   "metadata": {},
   "outputs": [
    {
     "name": "stdout",
     "output_type": "stream",
     "text": [
      "Hi Claire Saffiz, you're invited to my dinner party! Please RSVP before Thursday.\n",
      "Hi Andy Baraghani, you're invited to my dinner party! Please RSVP before Thursday.\n",
      "Hi Brad Leone, you're invited to my dinner party! Please RSVP before Thursday.\n",
      "Hi Chris Morocco, you're invited to my dinner party! Please RSVP before Thursday.\n"
     ]
    }
   ],
   "source": [
    "BATK = ['claire saffiz', 'andy baraghani', 'brad leone', 'chris morocco']\n",
    "for chef in BATK:\n",
    "    print (f\"Hi {chef.title()}, you're invited to my dinner party! Please RSVP before Thursday.\")"
   ]
  },
  {
   "cell_type": "markdown",
   "metadata": {},
   "source": [
    "## Changing Guest List:\n",
    "You just heard that one of your guests can't make the dinner, so you need to send out a new set of invitations. You'll have to think of someone else to invite.\n",
    "- Start with your program from Exercise 3-4. Add a `print()` call at the end of your program stating the name of the guest who can't make it.\n",
    "- Modify your list, replacing the name of the guest who can't make with the name of the new person you are inviting.\n",
    "- Print a second set of invitation messages, one for each person who is still in your list."
   ]
  },
  {
   "cell_type": "code",
   "execution_count": 14,
   "metadata": {},
   "outputs": [
    {
     "name": "stdout",
     "output_type": "stream",
     "text": [
      "Hi Andy Baraghani, I've just heard that you can't make it to the dinner party, do you have anyone you want to invite in place of you?\n",
      "Hi Claire Saffiz, you are invited to my dinner party!\n",
      "Hi Molly Baz, you are invited to my dinner party!\n",
      "Hi Brad Leone, you are invited to my dinner party!\n",
      "Hi Chris Morocco, you are invited to my dinner party!\n"
     ]
    }
   ],
   "source": [
    "print (f\"Hi {BATK[1].title()}, I've just heard that you can't make it to the dinner party, do you have anyone you want to invite in place of you?\")\n",
    "BATK[1] = 'molly baz'\n",
    "for chef in BATK:\n",
    "    print (f\"Hi {chef.title()}, you are invited to my dinner party!\")"
   ]
  },
  {
   "cell_type": "markdown",
   "metadata": {},
   "source": [
    "## More Guests:\n",
    "You just found a bigger dinner table, so now more space is available. Think of three more guests to invite to dinner.\n",
    "- Start with your program from Exercise 3-4 or Exercise 3-5. Add a `print()` call to the end of your program informing people that you found a bigger dinner table.\n",
    "- Use `insert()` to add one new guest to the beginning of your list.\n",
    "- Use `insert()` to add one new guest to the middle of your list.\n",
    "- Use `append()` to add one new guest to the end of your list.\n",
    "- Print a new set of invitation messages, one for each person in your list."
   ]
  },
  {
   "cell_type": "code",
   "execution_count": 15,
   "metadata": {},
   "outputs": [
    {
     "name": "stdout",
     "output_type": "stream",
     "text": [
      "Hey all, I've found a bigger dinner table so now I could invite more guests for our dinner party\n",
      " Hi Carla Music, you're invited to my dinner party, now with a bigger venue!\n",
      " Hi Claire Saffiz, you're invited to my dinner party, now with a bigger venue!\n",
      " Hi Molly Baz, you're invited to my dinner party, now with a bigger venue!\n",
      " Hi Sohla El-Wally, you're invited to my dinner party, now with a bigger venue!\n",
      " Hi Brad Leone, you're invited to my dinner party, now with a bigger venue!\n",
      " Hi Chris Morocco, you're invited to my dinner party, now with a bigger venue!\n",
      " Hi Alex Delany, you're invited to my dinner party, now with a bigger venue!\n"
     ]
    }
   ],
   "source": [
    "print (f\"Hey all, I've found a bigger dinner table so now I could invite more guests for our dinner party\")\n",
    "BATK.insert(0,'carla music')\n",
    "BATK.insert (3, 'sohla el-wally')\n",
    "BATK.append ('alex delany')\n",
    "for chef in BATK:\n",
    "    print (f\" Hi {chef.title()}, you're invited to my dinner party, now with a bigger venue!\")"
   ]
  },
  {
   "cell_type": "markdown",
   "metadata": {},
   "source": [
    "## Shrinking Guest List\n",
    "You just found out that your new dinner table won't arrive in time for the dinner, and you have space for only two guests.\n",
    "- Start with your program from Exercise 3.6. Add a new line that prints a message saying that you can invite only two people for dinner.\n",
    "- Use `pop()` to remove guests from your list one at a time until only two names remain in your list. Each time you pop a name from your list, print a message to that person letting them know you're sorry you can't invite them to dinner.\n",
    "- Print a message to each of the two people still on your list, letting them know they're still invited.\n",
    "- Use `del` to remove the last two names from your list, so you have an empty list. Print your list to make sure you actually have an empty list at the end of your program."
   ]
  },
  {
   "cell_type": "code",
   "execution_count": 16,
   "metadata": {},
   "outputs": [
    {
     "name": "stdout",
     "output_type": "stream",
     "text": [
      "I'm so sorry, the big new dinner table won't be arriving in time, I'll only be able to have space for two guests.\n",
      "['carla music', 'claire saffiz', 'molly baz', 'sohla el-wally', 'brad leone', 'chris morocco', 'alex delany']\n",
      "Hi Alex Delany, I'm sorry that I can't invite you to my dinner.\n",
      "Hi Carla Music, I'm sorry that I can't invite you to my dinner.\n",
      "Hi Sohla El-Wally, I'm sorry that I can't invite you to my dinner.\n",
      "Hi Brad Leone, I'm sorry that I can't invite you to my dinner.\n",
      "Hi Chris Morocco, I'm sorry that I can't invite you to my dinner.\n",
      "Hi Claire Saffiz, you are still invited to my dinner! SIKE\n",
      "Hi Molly Baz, you are still invited to my dinner! SIKE\n",
      "[]\n"
     ]
    }
   ],
   "source": [
    "print (\"I'm so sorry, the big new dinner table won't be arriving in time, I'll only be able to have space for two guests.\")\n",
    "print (BATK)\n",
    "pop_default = BATK.pop()\n",
    "print (f\"Hi {pop_default.title()}, I'm sorry that I can't invite you to my dinner.\")\n",
    "pop_numbered = BATK.pop(0)\n",
    "print (f\"Hi {pop_numbered.title()}, I'm sorry that I can't invite you to my dinner.\")\n",
    "pop_numbered2 = BATK.pop(2)\n",
    "print (f\"Hi {pop_numbered2.title()}, I'm sorry that I can't invite you to my dinner.\")\n",
    "pop_numbered3 = BATK.pop(2)\n",
    "print (f\"Hi {pop_numbered3.title()}, I'm sorry that I can't invite you to my dinner.\")\n",
    "pop_numbered4 = BATK.pop(2)\n",
    "print (f\"Hi {pop_numbered4.title()}, I'm sorry that I can't invite you to my dinner.\")\n",
    "for chef in BATK:\n",
    "    print (f\"Hi {chef.title()}, you are still invited to my dinner! SIKE\")\n",
    "del BATK[0]\n",
    "del BATK[0]\n",
    "print (BATK)"
   ]
  },
  {
   "cell_type": "markdown",
   "metadata": {},
   "source": [
    "## Seeing the World:\n",
    "Think of at least five places in the world you'd like to visit.\n",
    "- Store the locations in a list. Make sure the list is not in alphabetical order.\n",
    "- Print your list in its original order. Don't worry about printing the list neatly, just print it as a raw Python list.\n",
    "- Use `sorted()` to print your list in alphabetical order without modifying the actual list.\n",
    "- Show that your list is still in its original order by printing it.\n",
    "- Use `sorted()` to print your list in reverse alphabetical order without changing the order of the original list.\n",
    "- Show that your list is still in its original order by printing it again.\n",
    "- Use `reverse()` to change the order of your list. Print the list to show that its order has changed.\n",
    "- Use `reverse()` to change the order of your list again. Print the list to show it's back to its original order.\n",
    "- Use `sort()` to change your list so it's sorted in alphabetical order. Print the list to show that its order has been changed.\n",
    "- Use `sort()` to change your list so it's sorted in reverse alphabetical order. Print the list to show that its order has changed."
   ]
  },
  {
   "cell_type": "code",
   "execution_count": 23,
   "metadata": {},
   "outputs": [
    {
     "name": "stdout",
     "output_type": "stream",
     "text": [
      "Here is the original list\n",
      "['tokyo', 'hokaido', 'taipei', 'new york', 'singapore', 'toronto', 'los angeles']\n",
      "\n",
      "Here is the temp sorted list\n",
      "['hokaido', 'los angeles', 'new york', 'singapore', 'taipei', 'tokyo', 'toronto']\n",
      "\n",
      "Here is the original list\n",
      "['tokyo', 'hokaido', 'taipei', 'new york', 'singapore', 'toronto', 'los angeles']\n",
      "\n",
      "Here is the temp sorted list in reverse\n",
      "['toronto', 'tokyo', 'taipei', 'singapore', 'new york', 'los angeles', 'hokaido']\n",
      "\n",
      "Here is the original list in reverse\n",
      "['los angeles', 'toronto', 'singapore', 'new york', 'taipei', 'hokaido', 'tokyo']\n",
      "\n",
      "Here is the reversed original list, got reverse again\n",
      "['tokyo', 'hokaido', 'taipei', 'new york', 'singapore', 'toronto', 'los angeles']\n",
      "\n",
      "Here is the list sorted permanently\n",
      "['hokaido', 'los angeles', 'new york', 'singapore', 'taipei', 'tokyo', 'toronto']\n",
      "\n",
      "Here is the list sorted permanently in reverse\n",
      "['toronto', 'tokyo', 'taipei', 'singapore', 'new york', 'los angeles', 'hokaido']\n"
     ]
    }
   ],
   "source": [
    "travel = ['tokyo', 'hokaido', 'taipei', 'new york', 'singapore', 'toronto', 'los angeles']\n",
    "print (f'Here is the original list\\n{travel}')\n",
    "print (f'\\nHere is the temp sorted list\\n{sorted(travel)}')\n",
    "print (f'\\nHere is the original list\\n{travel}')\n",
    "print (f'\\nHere is the temp sorted list in reverse\\n{sorted(travel, reverse=True)}')\n",
    "travel.reverse()\n",
    "print (f'\\nHere is the original list in reverse\\n{travel}')\n",
    "travel.reverse()\n",
    "print (f'\\nHere is the reversed original list, got reverse again\\n{travel}')\n",
    "travel.sort()\n",
    "print (f'\\nHere is the list sorted permanently\\n{travel}')\n",
    "travel.sort(reverse=True)\n",
    "print (f'\\nHere is the list sorted permanently in reverse\\n{travel}')\n"
   ]
  },
  {
   "cell_type": "markdown",
   "metadata": {},
   "source": [
    "## Dinner Guests\n",
    "Working with one of the programs from Exercises 3-4 through 3-7, use `len()` to print a message indicating the number of people you are inviting to dinner."
   ]
  },
  {
   "cell_type": "code",
   "execution_count": 25,
   "metadata": {},
   "outputs": [
    {
     "data": {
      "text/plain": [
       "7"
      ]
     },
     "execution_count": 25,
     "metadata": {},
     "output_type": "execute_result"
    }
   ],
   "source": [
    "len(travel)"
   ]
  },
  {
   "cell_type": "markdown",
   "metadata": {},
   "source": [
    "## Every Function\n",
    "Think of something you could store in a list. For example, you could make a list of mountains, rivers, countries, cities, languages, or anything else you'd like. Write a program that creates a list containing these items and then uses each functon introduced in this chapter at least once.\n",
    "\n",
    "**Built-in Functions** <br>\n",
    "print()\n",
    "\n",
    "del\n",
    "\n",
    "sorted(list, key=..., reverse=...) <br>\n",
    "reverse - If true, the sorted list is reversed (or sorted in Descending order)<br>\n",
    "key - function that serves as a key for the sort comparison <br>\n",
    "sort() doesn't return any value while, sorted() returns an iterable list.\n",
    "\n",
    "len()\n",
    "\n",
    "**Methods** <br>\n",
    ".title\n",
    "\n",
    ".upper\n",
    "\n",
    ".lower\n",
    "\n",
    ".strip / lstrip / rstrip\n",
    "\n",
    "list.insert(index, element)\n",
    "index - position where an element needs to be inserted\n",
    "element - this is the element to be inserted in the list\n",
    "\n",
    "list.append(item)\n",
    "item - an item to be added at the end of the list\n",
    "The item can be numbers, strings, dictionaries, another list, and so on.\n",
    "\n",
    "list.pop(index)\n",
    "\n",
    "list.reverse()\n",
    "doesn't take arguments\n",
    "\n",
    "list.sort(key=..., reverse=...)\n",
    "reverse - If true, the sorted list is reversed (or sorted in Descending order)\n",
    "key - function that serves as a key for the sort comparison\n",
    "sort() doesn't return any value while, sorted() returns an iterable list.\n",
    "\n"
   ]
  },
  {
   "cell_type": "code",
   "execution_count": null,
   "metadata": {},
   "outputs": [],
   "source": []
  },
  {
   "cell_type": "markdown",
   "metadata": {},
   "source": [
    "## Intentional Error\n",
    "If you haven't received an index error in one of your programs yet, try to make one happen. Change an index in one of your programs to produce an index error. Make sure you correct the error before closing the program."
   ]
  },
  {
   "cell_type": "code",
   "execution_count": null,
   "metadata": {},
   "outputs": [],
   "source": []
  }
 ],
 "metadata": {
  "kernelspec": {
   "display_name": "Python 3",
   "language": "python",
   "name": "python3"
  },
  "language_info": {
   "codemirror_mode": {
    "name": "ipython",
    "version": 3
   },
   "file_extension": ".py",
   "mimetype": "text/x-python",
   "name": "python",
   "nbconvert_exporter": "python",
   "pygments_lexer": "ipython3",
   "version": "3.7.3"
  },
  "toc": {
   "base_numbering": 1,
   "nav_menu": {},
   "number_sections": true,
   "sideBar": true,
   "skip_h1_title": false,
   "title_cell": "Table of Contents",
   "title_sidebar": "Contents",
   "toc_cell": false,
   "toc_position": {},
   "toc_section_display": true,
   "toc_window_display": true
  }
 },
 "nbformat": 4,
 "nbformat_minor": 2
}
